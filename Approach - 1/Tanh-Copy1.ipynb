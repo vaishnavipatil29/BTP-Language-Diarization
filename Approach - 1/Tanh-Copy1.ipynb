{
 "cells": [
  {
   "cell_type": "code",
   "execution_count": 40,
   "metadata": {},
   "outputs": [],
   "source": [
    "import tensorflow as tf\n",
    "\n",
    "config = tf.compat.v1.ConfigProto()\n",
    "jit_level = tf.compat.v1.OptimizerOptions.ON_1\n",
    "config.graph_options.optimizer_options.global_jit_level = jit_level"
   ]
  },
  {
   "cell_type": "code",
   "execution_count": 41,
   "metadata": {},
   "outputs": [],
   "source": [
    "import keras\n",
    "sess = tf.compat.v1.Session(config=config) \n",
    "keras.backend.set_session(sess)"
   ]
  },
  {
   "cell_type": "code",
   "execution_count": 42,
   "metadata": {},
   "outputs": [
    {
     "data": {
      "text/plain": [
       "[PhysicalDevice(name='/physical_device:CPU:0', device_type='CPU'),\n",
       " PhysicalDevice(name='/physical_device:XLA_CPU:0', device_type='XLA_CPU'),\n",
       " PhysicalDevice(name='/physical_device:XLA_GPU:0', device_type='XLA_GPU'),\n",
       " PhysicalDevice(name='/physical_device:XLA_GPU:1', device_type='XLA_GPU')]"
      ]
     },
     "execution_count": 42,
     "metadata": {},
     "output_type": "execute_result"
    }
   ],
   "source": [
    "tf.config.list_physical_devices()"
   ]
  },
  {
   "cell_type": "code",
   "execution_count": 43,
   "metadata": {},
   "outputs": [],
   "source": [
    "import python_speech_features\n",
    "import numpy as np\n",
    "import soundfile as sf\n",
    "import pickle\n",
    "import cv2\n",
    "import glob"
   ]
  },
  {
   "cell_type": "code",
   "execution_count": 44,
   "metadata": {},
   "outputs": [],
   "source": [
    "window_length = 19"
   ]
  },
  {
   "cell_type": "code",
   "execution_count": 45,
   "metadata": {},
   "outputs": [],
   "source": [
    "from keras.layers import Input, Dense, Conv2D, MaxPooling2D, UpSampling2D, BatchNormalization, LSTM, RepeatVector\n",
    "from keras.models import Model\n",
    "from keras.models import model_from_json\n",
    "from keras import regularizers\n",
    "import datetime\n",
    "import time\n",
    "import requests as req\n",
    "import json\n",
    "import pandas as pd\n",
    "import pickle\n",
    "import os\n",
    "import numpy as np\n",
    "from sklearn.preprocessing import MinMaxScaler\n",
    "from tqdm import tqdm\n",
    "from mpl_toolkits.mplot3d import Axes3D\n",
    "import matplotlib.pyplot as plt"
   ]
  },
  {
   "cell_type": "code",
   "execution_count": 46,
   "metadata": {},
   "outputs": [
    {
     "name": "stdout",
     "output_type": "stream",
     "text": [
      "Model: \"sequential_1\"\n",
      "_________________________________________________________________\n",
      "Layer (type)                 Output Shape              Param #   \n",
      "=================================================================\n",
      "lstm_4 (LSTM)                (None, 19, 256)           303104    \n",
      "_________________________________________________________________\n",
      "dropout_4 (Dropout)          (None, 19, 256)           0         \n",
      "_________________________________________________________________\n",
      "lstm_5 (LSTM)                (None, 512)               1574912   \n",
      "_________________________________________________________________\n",
      "dropout_5 (Dropout)          (None, 512)               0         \n",
      "_________________________________________________________________\n",
      "repeat_vector_1 (RepeatVecto (None, 19, 512)           0         \n",
      "_________________________________________________________________\n",
      "lstm_6 (LSTM)                (None, 19, 512)           2099200   \n",
      "_________________________________________________________________\n",
      "dropout_6 (Dropout)          (None, 19, 512)           0         \n",
      "_________________________________________________________________\n",
      "lstm_7 (LSTM)                (None, 19, 256)           787456    \n",
      "_________________________________________________________________\n",
      "dropout_7 (Dropout)          (None, 19, 256)           0         \n",
      "_________________________________________________________________\n",
      "time_distributed_1 (TimeDist (None, 19, 39)            10023     \n",
      "=================================================================\n",
      "Total params: 4,774,695\n",
      "Trainable params: 4,774,695\n",
      "Non-trainable params: 0\n",
      "_________________________________________________________________\n"
     ]
    }
   ],
   "source": [
    "#from keras.models import Sequential\n",
    "from tensorflow.keras.models import Sequential \n",
    "from tensorflow.keras.layers import LSTM\n",
    "from tensorflow.keras.layers import Dense, Dropout\n",
    "from tensorflow.keras.layers import RepeatVector\n",
    "from tensorflow.keras.layers import TimeDistributed\n",
    "from tensorflow.keras import callbacks\n",
    "from tensorflow.keras.callbacks import ModelCheckpoint,ReduceLROnPlateau\n",
    "# define model\n",
    "n_in = 19\n",
    "with tf.device(\"/GPU:0\"):\n",
    "#from keras.models import Sequential\n",
    "    model = Sequential()\n",
    "    model.add(LSTM(256, activation='tanh', return_sequences=True,input_shape=(19,39)))\n",
    "    model.add(Dropout(0.2))\n",
    "    model.add(LSTM(512, activation='tanh', return_sequences=False))\n",
    "    model.add(Dropout(0.2))\n",
    "    model.add(RepeatVector(n_in))\n",
    "    model.add(LSTM(512, activation='tanh', return_sequences=True))\n",
    "    model.add(Dropout(0.2))\n",
    "    model.add(LSTM(256, activation='tanh', return_sequences=True))\n",
    "    model.add(Dropout(0.2))\n",
    "    model.add(TimeDistributed(Dense(39)))\n",
    "\n",
    "    model.summary()\n",
    "\n",
    "    "
   ]
  },
  {
   "cell_type": "code",
   "execution_count": 47,
   "metadata": {},
   "outputs": [],
   "source": [
    "from keras.models import load_model\n",
    "model.load_weights('/home/orchids/Documents/BTP_Vaishnavi_Joshitha/Weights/wts_512.h5')"
   ]
  },
  {
   "cell_type": "code",
   "execution_count": 48,
   "metadata": {},
   "outputs": [],
   "source": [
    "feat_file = open(\"/home/orchids/Documents/BTP_Vaishnavi_Joshitha/PartB_Telugu/Train/telugu_feature_vect.pkl\", \"rb\")\n",
    "sequence = pickle.load(feat_file)"
   ]
  },
  {
   "cell_type": "code",
   "execution_count": 49,
   "metadata": {},
   "outputs": [],
   "source": [
    "out = model.layers[2].output\n",
    "m = tf.compat.v1.keras.Model(inputs = model.input, outputs=out)"
   ]
  },
  {
   "cell_type": "code",
   "execution_count": 50,
   "metadata": {},
   "outputs": [],
   "source": [
    "output = m.predict(sequence)"
   ]
  },
  {
   "cell_type": "code",
   "execution_count": 51,
   "metadata": {},
   "outputs": [
    {
     "name": "stdout",
     "output_type": "stream",
     "text": [
      "512\n",
      "195868\n"
     ]
    }
   ],
   "source": [
    "print(len(output[0]))\n",
    "print(len(output))"
   ]
  },
  {
   "cell_type": "code",
   "execution_count": 53,
   "metadata": {},
   "outputs": [],
   "source": [
    "features = output\n",
    "n_gmms=512\n",
    "from sklearn.mixture import GaussianMixture\n",
    "gmm_512_512 = GaussianMixture(n_components=n_gmms)"
   ]
  },
  {
   "cell_type": "code",
   "execution_count": 54,
   "metadata": {},
   "outputs": [],
   "source": [
    "with tf.device(\"/GPU:0\"):\n",
    "    gmm_512_512.fit(features)\n",
    "    score = gmm_512_512.score_samples(features)"
   ]
  },
  {
   "cell_type": "code",
   "execution_count": 55,
   "metadata": {},
   "outputs": [],
   "source": [
    "pickle.dump(gmm_512_512, open('gmm_512_512.sav', 'wb'))"
   ]
  },
  {
   "cell_type": "code",
   "execution_count": 15,
   "metadata": {},
   "outputs": [
    {
     "data": {
      "text/plain": [
       "[<matplotlib.lines.Line2D at 0x7fa9344d3940>]"
      ]
     },
     "execution_count": 15,
     "metadata": {},
     "output_type": "execute_result"
    },
    {
     "data": {
      "image/png": "[encoded data removed]",
      "text/plain": [
       "<Figure size 432x288 with 1 Axes>"
      ]
     },
     "metadata": {
      "needs_background": "light"
     },
     "output_type": "display_data"
    }
   ],
   "source": [
    "plt.plot(score)"
   ]
  },
  {
   "cell_type": "code",
   "execution_count": 16,
   "metadata": {},
   "outputs": [
    {
     "data": {
      "text/plain": [
       "2117.793048732473"
      ]
     },
     "execution_count": 16,
     "metadata": {},
     "output_type": "execute_result"
    }
   ],
   "source": [
    "gmm_512_1024.lower_bound_"
   ]
  },
  {
   "cell_type": "code",
   "execution_count": 17,
   "metadata": {},
   "outputs": [],
   "source": [
    "pickle.dump(gmm_512_1024, open('gmm_512_1024.sav', 'wb'))"
   ]
  },
  {
   "cell_type": "code",
   "execution_count": 18,
   "metadata": {},
   "outputs": [
    {
     "data": {
      "text/html": [
       "<div>\n",
       "<style scoped>\n",
       "    .dataframe tbody tr th:only-of-type {\n",
       "        vertical-align: middle;\n",
       "    }\n",
       "\n",
       "    .dataframe tbody tr th {\n",
       "        vertical-align: top;\n",
       "    }\n",
       "\n",
       "    .dataframe thead th {\n",
       "        text-align: right;\n",
       "    }\n",
       "</style>\n",
       "<table border=\"1\" class=\"dataframe\">\n",
       "  <thead>\n",
       "    <tr style=\"text-align: right;\">\n",
       "      <th></th>\n",
       "      <th>File Name</th>\n",
       "      <th>Sequence</th>\n",
       "    </tr>\n",
       "  </thead>\n",
       "  <tbody>\n",
       "    <tr>\n",
       "      <th>0</th>\n",
       "      <td>000010010</td>\n",
       "      <td>SSTTTTTTTTTTEEEEEETTSEEEEESSSSTTTTTTSSSSSSSSTT...</td>\n",
       "    </tr>\n",
       "    <tr>\n",
       "      <th>1</th>\n",
       "      <td>000010012</td>\n",
       "      <td>SSEEEETTSTTTTTTTTTTTTTTTTTTTTTSS</td>\n",
       "    </tr>\n",
       "    <tr>\n",
       "      <th>2</th>\n",
       "      <td>000010017</td>\n",
       "      <td>SSEEETTTTTTTTTTTTTTTTTTTTTTS</td>\n",
       "    </tr>\n",
       "    <tr>\n",
       "      <th>3</th>\n",
       "      <td>000010023</td>\n",
       "      <td>SSTTTTTTTTTTTTTTTTTTEESSSSSSEEEEEEETTTTTTTTSS</td>\n",
       "    </tr>\n",
       "    <tr>\n",
       "      <th>4</th>\n",
       "      <td>000010030</td>\n",
       "      <td>SSTTTTTTTTTTEETTTS</td>\n",
       "    </tr>\n",
       "    <tr>\n",
       "      <th>5</th>\n",
       "      <td>000010035</td>\n",
       "      <td>SSTTTTTTTTTTTTTTSEETTTS</td>\n",
       "    </tr>\n",
       "    <tr>\n",
       "      <th>6</th>\n",
       "      <td>000010051</td>\n",
       "      <td>SSSTSTTTTTTTETTTTTTSSTTTTTTTTSS</td>\n",
       "    </tr>\n",
       "    <tr>\n",
       "      <th>7</th>\n",
       "      <td>000010107</td>\n",
       "      <td>SSTTTTTTTTTTETTTTTSTTTTTTTTS</td>\n",
       "    </tr>\n",
       "    <tr>\n",
       "      <th>8</th>\n",
       "      <td>000010110</td>\n",
       "      <td>SSTEETTTTTTTTTEEESTTEETTTEETTTTS</td>\n",
       "    </tr>\n",
       "    <tr>\n",
       "      <th>9</th>\n",
       "      <td>000010138</td>\n",
       "      <td>SSTTTTTTTTTTTTSEEETTSTTTTTTTTTS</td>\n",
       "    </tr>\n",
       "    <tr>\n",
       "      <th>10</th>\n",
       "      <td>000010172</td>\n",
       "      <td>SSTTTEEEESTETTTTTTTTTSSSTTTTTTTTTTTTSS</td>\n",
       "    </tr>\n",
       "    <tr>\n",
       "      <th>11</th>\n",
       "      <td>000010188</td>\n",
       "      <td>SSTTTTTTSTTTTTTSSSSTTTTTTTETTTSS</td>\n",
       "    </tr>\n",
       "    <tr>\n",
       "      <th>12</th>\n",
       "      <td>000010199</td>\n",
       "      <td>SSTTTEETTTTTTTTTTTTTTSS</td>\n",
       "    </tr>\n",
       "    <tr>\n",
       "      <th>13</th>\n",
       "      <td>000010217</td>\n",
       "      <td>SSEEETTTTTTTTTEETTTTTTSS</td>\n",
       "    </tr>\n",
       "    <tr>\n",
       "      <th>14</th>\n",
       "      <td>000010236</td>\n",
       "      <td>SSTTTEETTTTTTTTTTTTETTTEEEEEESSSTTSTTTTTTTTTTTTTS</td>\n",
       "    </tr>\n",
       "    <tr>\n",
       "      <th>15</th>\n",
       "      <td>000010247</td>\n",
       "      <td>SSSTTTTTTTSEEETTTTTTTTTTSS</td>\n",
       "    </tr>\n",
       "    <tr>\n",
       "      <th>16</th>\n",
       "      <td>000010266</td>\n",
       "      <td>SSSEETTTTTEEEEEES</td>\n",
       "    </tr>\n",
       "    <tr>\n",
       "      <th>17</th>\n",
       "      <td>000010271</td>\n",
       "      <td>SSTTTTTTSSSSTTTTTTTTTTSSSEEEETTTSTTTTSS</td>\n",
       "    </tr>\n",
       "    <tr>\n",
       "      <th>18</th>\n",
       "      <td>000010277</td>\n",
       "      <td>SSEEETTTTTETTTTTTSTTTTSS</td>\n",
       "    </tr>\n",
       "    <tr>\n",
       "      <th>19</th>\n",
       "      <td>000010280</td>\n",
       "      <td>SSTTEETTTTTTTTTTTTTTTSSSSSTTSTTTTSS</td>\n",
       "    </tr>\n",
       "    <tr>\n",
       "      <th>20</th>\n",
       "      <td>000010282</td>\n",
       "      <td>SSTTTTEETTTTTTTEETTEETTTTSSSSSS</td>\n",
       "    </tr>\n",
       "    <tr>\n",
       "      <th>21</th>\n",
       "      <td>000010283</td>\n",
       "      <td>SSEEEEEEEEETTTTTSTTTSSTTTTT</td>\n",
       "    </tr>\n",
       "    <tr>\n",
       "      <th>22</th>\n",
       "      <td>000010294</td>\n",
       "      <td>SSEEETTTTTTSSTTTSSSTTTTTSTTTTEETTTTTTS</td>\n",
       "    </tr>\n",
       "    <tr>\n",
       "      <th>23</th>\n",
       "      <td>000010295</td>\n",
       "      <td>SSTTTTEETTTTTTTTTTTTSSTTTTTTTTTSS</td>\n",
       "    </tr>\n",
       "    <tr>\n",
       "      <th>24</th>\n",
       "      <td>000010324</td>\n",
       "      <td>SSTTEEETTSSSSSTTTTTTTTTTEEETTSS</td>\n",
       "    </tr>\n",
       "    <tr>\n",
       "      <th>25</th>\n",
       "      <td>000010327</td>\n",
       "      <td>SSTTTTEEETEEETTTTTTTTTTTTTS</td>\n",
       "    </tr>\n",
       "    <tr>\n",
       "      <th>26</th>\n",
       "      <td>000010338</td>\n",
       "      <td>SSEEEEEEEETSEETTTTSTTTTTTTTTTTTTSS</td>\n",
       "    </tr>\n",
       "    <tr>\n",
       "      <th>27</th>\n",
       "      <td>000010342</td>\n",
       "      <td>SSTTTSSTTTTTTTTTSTTTTTTTTSTTEEEETTTTTSSTTTTTTT...</td>\n",
       "    </tr>\n",
       "    <tr>\n",
       "      <th>28</th>\n",
       "      <td>000010372</td>\n",
       "      <td>SSEETTTTTTEETTTTSEEEEEETTTTTTTTS</td>\n",
       "    </tr>\n",
       "    <tr>\n",
       "      <th>29</th>\n",
       "      <td>000010391</td>\n",
       "      <td>SSTTTTEEESSEEEEETTTTTEETTTTSSSTTTTTTTTTTTTTTTT...</td>\n",
       "    </tr>\n",
       "    <tr>\n",
       "      <th>...</th>\n",
       "      <td>...</td>\n",
       "      <td>...</td>\n",
       "    </tr>\n",
       "    <tr>\n",
       "      <th>8195</th>\n",
       "      <td>102280134</td>\n",
       "      <td>SSEETTTTEETTTTTTSSSS</td>\n",
       "    </tr>\n",
       "    <tr>\n",
       "      <th>8196</th>\n",
       "      <td>102280135</td>\n",
       "      <td>SSTTTTTEETTTTTTTTS</td>\n",
       "    </tr>\n",
       "    <tr>\n",
       "      <th>8197</th>\n",
       "      <td>102280149</td>\n",
       "      <td>SSTTTTTTTTTEEEETTTTTSS</td>\n",
       "    </tr>\n",
       "    <tr>\n",
       "      <th>8198</th>\n",
       "      <td>102280179</td>\n",
       "      <td>SSEEEEESETTEETTTTTTTEEESSS</td>\n",
       "    </tr>\n",
       "    <tr>\n",
       "      <th>8199</th>\n",
       "      <td>102280191</td>\n",
       "      <td>SSEEETTEEEETTTTTTTTSS</td>\n",
       "    </tr>\n",
       "    <tr>\n",
       "      <th>8200</th>\n",
       "      <td>102280198</td>\n",
       "      <td>SSTTTTTTTTEETTTTTTTSS</td>\n",
       "    </tr>\n",
       "    <tr>\n",
       "      <th>8201</th>\n",
       "      <td>102280201</td>\n",
       "      <td>SSTTEETTTTTTTEESTTTSS</td>\n",
       "    </tr>\n",
       "    <tr>\n",
       "      <th>8202</th>\n",
       "      <td>102280219</td>\n",
       "      <td>SSTTTTEEEETTTTTTTTTTSSS</td>\n",
       "    </tr>\n",
       "    <tr>\n",
       "      <th>8203</th>\n",
       "      <td>102280228</td>\n",
       "      <td>SSEETTTTTTTTTSSTTTTTTSS</td>\n",
       "    </tr>\n",
       "    <tr>\n",
       "      <th>8204</th>\n",
       "      <td>102280230</td>\n",
       "      <td>SSSTTTTTTTTTTTTEEESS</td>\n",
       "    </tr>\n",
       "    <tr>\n",
       "      <th>8205</th>\n",
       "      <td>102280239</td>\n",
       "      <td>SSEEEETTSSTTTTTTTTTTTSS</td>\n",
       "    </tr>\n",
       "    <tr>\n",
       "      <th>8206</th>\n",
       "      <td>102280262</td>\n",
       "      <td>SSTTTTTTTTTTTEETTSS</td>\n",
       "    </tr>\n",
       "    <tr>\n",
       "      <th>8207</th>\n",
       "      <td>102280266</td>\n",
       "      <td>SSTTTTTEETTTTTTSS</td>\n",
       "    </tr>\n",
       "    <tr>\n",
       "      <th>8208</th>\n",
       "      <td>102280297</td>\n",
       "      <td>SSSTTEETTTTTTTTTSS</td>\n",
       "    </tr>\n",
       "    <tr>\n",
       "      <th>8209</th>\n",
       "      <td>102280308</td>\n",
       "      <td>SSEEETTTTTTTTSEEEEETTTSS</td>\n",
       "    </tr>\n",
       "    <tr>\n",
       "      <th>8210</th>\n",
       "      <td>102280314</td>\n",
       "      <td>SSTTTEETTTTTTTTTTTTTTTSS</td>\n",
       "    </tr>\n",
       "    <tr>\n",
       "      <th>8211</th>\n",
       "      <td>102280317</td>\n",
       "      <td>SSEEEESEEETTTETTSSS</td>\n",
       "    </tr>\n",
       "    <tr>\n",
       "      <th>8212</th>\n",
       "      <td>102280328</td>\n",
       "      <td>SSEETTTTTTTTTTSSS</td>\n",
       "    </tr>\n",
       "    <tr>\n",
       "      <th>8213</th>\n",
       "      <td>102280339</td>\n",
       "      <td>SSSSEEETTTTTSS</td>\n",
       "    </tr>\n",
       "    <tr>\n",
       "      <th>8214</th>\n",
       "      <td>102280340</td>\n",
       "      <td>SSSTTTTTTEETTTTTTTTTTSS</td>\n",
       "    </tr>\n",
       "    <tr>\n",
       "      <th>8215</th>\n",
       "      <td>102280388</td>\n",
       "      <td>SSSTTTTTTTEETTTSSTTTTTTTTTTSSS</td>\n",
       "    </tr>\n",
       "    <tr>\n",
       "      <th>8216</th>\n",
       "      <td>102280390</td>\n",
       "      <td>SSTTTTTTTTTTTSEETTTTTS</td>\n",
       "    </tr>\n",
       "    <tr>\n",
       "      <th>8217</th>\n",
       "      <td>102280412</td>\n",
       "      <td>SSTTTEETTTTSSSSTTTTTTTTTTSSS</td>\n",
       "    </tr>\n",
       "    <tr>\n",
       "      <th>8218</th>\n",
       "      <td>102280427</td>\n",
       "      <td>SSEEETTTTTTTTTTTTTTTTTTTSS</td>\n",
       "    </tr>\n",
       "    <tr>\n",
       "      <th>8219</th>\n",
       "      <td>102280434</td>\n",
       "      <td>SSEEEEEETTTTTTTTTTTS</td>\n",
       "    </tr>\n",
       "    <tr>\n",
       "      <th>8220</th>\n",
       "      <td>102280462</td>\n",
       "      <td>SSTTTTTTEEEEETTTTTTTSS</td>\n",
       "    </tr>\n",
       "    <tr>\n",
       "      <th>8221</th>\n",
       "      <td>102280464</td>\n",
       "      <td>SSTTTTTTEETEETTSS</td>\n",
       "    </tr>\n",
       "    <tr>\n",
       "      <th>8222</th>\n",
       "      <td>102280484</td>\n",
       "      <td>SSTTTTTEETTETTTTT</td>\n",
       "    </tr>\n",
       "    <tr>\n",
       "      <th>8223</th>\n",
       "      <td>102280489</td>\n",
       "      <td>SSEEETTTTTTTTEETTTSS</td>\n",
       "    </tr>\n",
       "    <tr>\n",
       "      <th>8224</th>\n",
       "      <td>102280491</td>\n",
       "      <td>SSEETTTTTTTTTTTTSSS</td>\n",
       "    </tr>\n",
       "  </tbody>\n",
       "</table>\n",
       "<p>8225 rows × 2 columns</p>\n",
       "</div>"
      ],
      "text/plain": [
       "      File Name                                           Sequence\n",
       "0     000010010  SSTTTTTTTTTTEEEEEETTSEEEEESSSSTTTTTTSSSSSSSSTT...\n",
       "1     000010012                   SSEEEETTSTTTTTTTTTTTTTTTTTTTTTSS\n",
       "2     000010017                       SSEEETTTTTTTTTTTTTTTTTTTTTTS\n",
       "3     000010023      SSTTTTTTTTTTTTTTTTTTEESSSSSSEEEEEEETTTTTTTTSS\n",
       "4     000010030                                 SSTTTTTTTTTTEETTTS\n",
       "5     000010035                            SSTTTTTTTTTTTTTTSEETTTS\n",
       "6     000010051                    SSSTSTTTTTTTETTTTTTSSTTTTTTTTSS\n",
       "7     000010107                       SSTTTTTTTTTTETTTTTSTTTTTTTTS\n",
       "8     000010110                   SSTEETTTTTTTTTEEESTTEETTTEETTTTS\n",
       "9     000010138                    SSTTTTTTTTTTTTSEEETTSTTTTTTTTTS\n",
       "10    000010172             SSTTTEEEESTETTTTTTTTTSSSTTTTTTTTTTTTSS\n",
       "11    000010188                   SSTTTTTTSTTTTTTSSSSTTTTTTTETTTSS\n",
       "12    000010199                            SSTTTEETTTTTTTTTTTTTTSS\n",
       "13    000010217                           SSEEETTTTTTTTTEETTTTTTSS\n",
       "14    000010236  SSTTTEETTTTTTTTTTTTETTTEEEEEESSSTTSTTTTTTTTTTTTTS\n",
       "15    000010247                         SSSTTTTTTTSEEETTTTTTTTTTSS\n",
       "16    000010266                                  SSSEETTTTTEEEEEES\n",
       "17    000010271            SSTTTTTTSSSSTTTTTTTTTTSSSEEEETTTSTTTTSS\n",
       "18    000010277                           SSEEETTTTTETTTTTTSTTTTSS\n",
       "19    000010280                SSTTEETTTTTTTTTTTTTTTSSSSSTTSTTTTSS\n",
       "20    000010282                    SSTTTTEETTTTTTTEETTEETTTTSSSSSS\n",
       "21    000010283                        SSEEEEEEEEETTTTTSTTTSSTTTTT\n",
       "22    000010294             SSEEETTTTTTSSTTTSSSTTTTTSTTTTEETTTTTTS\n",
       "23    000010295                  SSTTTTEETTTTTTTTTTTTSSTTTTTTTTTSS\n",
       "24    000010324                    SSTTEEETTSSSSSTTTTTTTTTTEEETTSS\n",
       "25    000010327                        SSTTTTEEETEEETTTTTTTTTTTTTS\n",
       "26    000010338                 SSEEEEEEEETSEETTTTSTTTTTTTTTTTTTSS\n",
       "27    000010342  SSTTTSSTTTTTTTTTSTTTTTTTTSTTEEEETTTTTSSTTTTTTT...\n",
       "28    000010372                   SSEETTTTTTEETTTTSEEEEEETTTTTTTTS\n",
       "29    000010391  SSTTTTEEESSEEEEETTTTTEETTTTSSSTTTTTTTTTTTTTTTT...\n",
       "...         ...                                                ...\n",
       "8195  102280134                               SSEETTTTEETTTTTTSSSS\n",
       "8196  102280135                                 SSTTTTTEETTTTTTTTS\n",
       "8197  102280149                             SSTTTTTTTTTEEEETTTTTSS\n",
       "8198  102280179                         SSEEEEESETTEETTTTTTTEEESSS\n",
       "8199  102280191                              SSEEETTEEEETTTTTTTTSS\n",
       "8200  102280198                              SSTTTTTTTTEETTTTTTTSS\n",
       "8201  102280201                              SSTTEETTTTTTTEESTTTSS\n",
       "8202  102280219                            SSTTTTEEEETTTTTTTTTTSSS\n",
       "8203  102280228                            SSEETTTTTTTTTSSTTTTTTSS\n",
       "8204  102280230                               SSSTTTTTTTTTTTTEEESS\n",
       "8205  102280239                            SSEEEETTSSTTTTTTTTTTTSS\n",
       "8206  102280262                                SSTTTTTTTTTTTEETTSS\n",
       "8207  102280266                                  SSTTTTTEETTTTTTSS\n",
       "8208  102280297                                 SSSTTEETTTTTTTTTSS\n",
       "8209  102280308                           SSEEETTTTTTTTSEEEEETTTSS\n",
       "8210  102280314                           SSTTTEETTTTTTTTTTTTTTTSS\n",
       "8211  102280317                                SSEEEESEEETTTETTSSS\n",
       "8212  102280328                                  SSEETTTTTTTTTTSSS\n",
       "8213  102280339                                     SSSSEEETTTTTSS\n",
       "8214  102280340                            SSSTTTTTTEETTTTTTTTTTSS\n",
       "8215  102280388                     SSSTTTTTTTEETTTSSTTTTTTTTTTSSS\n",
       "8216  102280390                             SSTTTTTTTTTTTSEETTTTTS\n",
       "8217  102280412                       SSTTTEETTTTSSSSTTTTTTTTTTSSS\n",
       "8218  102280427                         SSEEETTTTTTTTTTTTTTTTTTTSS\n",
       "8219  102280434                               SSEEEEEETTTTTTTTTTTS\n",
       "8220  102280462                             SSTTTTTTEEEEETTTTTTTSS\n",
       "8221  102280464                                  SSTTTTTTEETEETTSS\n",
       "8222  102280484                                  SSTTTTTEETTETTTTT\n",
       "8223  102280489                               SSEEETTTTTTTTEETTTSS\n",
       "8224  102280491                                SSEETTTTTTTTTTTTSSS\n",
       "\n",
       "[8225 rows x 2 columns]"
      ]
     },
     "execution_count": 18,
     "metadata": {},
     "output_type": "execute_result"
    }
   ],
   "source": [
    "import csv\n",
    "import pandas as pd\n",
    "list = ['File Name','Sequence']\n",
    "train_df = pd.read_csv(\"/home/orchids/Documents/BTP_Vaishnavi_Joshitha/PartB_Telugu/Train/Transcription_LT_Sequence_Frame_Level_200_actual.tsv\", delimiter=\"\\t\",names=list)\n",
    "train_df['File Name'] = train_df['File Name'].apply(lambda x: str(x))\n",
    "for x in range(0,len(train_df['File Name'])):\n",
    "    train_df['File Name'][x] = str(str(train_df['File Name'][x]).zfill(9))\n",
    "train_df"
   ]
  },
  {
   "cell_type": "code",
   "execution_count": 24,
   "metadata": {},
   "outputs": [
    {
     "name": "stdout",
     "output_type": "stream",
     "text": [
      "SSTTTTTTTTTTTTTTTTTTEESSSSSSEEEEEEETTTTTTTTSS\n"
     ]
    },
    {
     "data": {
      "image/png": "[encoded data removed]",
      "text/plain": [
       "<Figure size 432x288 with 1 Axes>"
      ]
     },
     "metadata": {
      "needs_background": "light"
     },
     "output_type": "display_data"
    },
    {
     "name": "stdout",
     "output_type": "stream",
     "text": [
      "gmm_512_1024\n",
      "S :  -381424.50203697087\n",
      "S :  -152661.86871433305\n",
      "T :  2026.2601895747935\n",
      "T :  2233.1888625572296\n",
      "T :  2153.6693617815536\n",
      "T :  2019.661586607483\n",
      "T :  1939.169468286253\n",
      "T :  2063.998426469688\n",
      "T :  2150.5006601864443\n",
      "T :  2193.242116430102\n",
      "T :  2253.6043658764584\n",
      "T :  2103.9199208294835\n",
      "T :  2253.606930140012\n",
      "T :  2043.0573136719142\n",
      "T :  2053.9691329001585\n",
      "T :  2201.3427664874744\n",
      "T :  1793.4292212026387\n",
      "T :  2175.4960315880553\n",
      "T :  2245.003259961778\n",
      "T :  2120.7352184939064\n",
      "E :  -55860.323135817496\n",
      "E :  -290708.2372160437\n",
      "S :  -207711.2843450815\n",
      "S :  -328347.39616914996\n",
      "S :  -149889.28635509821\n",
      "S :  -188267.9904972934\n",
      "S :  -216953.0503044998\n",
      "S :  -293458.63115559414\n",
      "E :  -447818.44458515465\n",
      "E :  -38353.5558918591\n",
      "E :  -158275.65547000265\n",
      "E :  -62313.56095295072\n",
      "E :  -85416.30207617857\n",
      "E :  -63072.867913826456\n",
      "E :  -120743.9742610908\n",
      "T :  2128.569286637303\n",
      "T :  1991.3254880220643\n",
      "T :  2033.239243919389\n",
      "T :  1995.4233879305566\n",
      "T :  2175.507561163533\n",
      "T :  2161.433525374091\n",
      "T :  2143.802755337522\n",
      "T :  2490.6039412359723\n",
      "S :  -183209.24584014254\n"
     ]
    }
   ],
   "source": [
    "from keras.models import load_model\n",
    "#model.load_weights('Weights/wts_512.h5')\n",
    "\n",
    "file_name = '000010023'\n",
    "file_path =\"PartB_Telugu/Train/Audio/\"+file_name+'.wav'\n",
    "data, fs = sf.read(file_path)\n",
    "seq = train_df.loc[train_df['File Name'] == file_name, 'Sequence'].iloc[0]\n",
    "\n",
    "fin = []  #200 ms frames in the file_name\n",
    "frame = int(0.2*fs)\n",
    "\n",
    "for i in range(0,len(seq)):\n",
    "    if len(data[frame*i:frame*i+frame])==3200:\n",
    "      fin.append((data[frame*i:frame*i+frame]).tolist())\n",
    "\n",
    "final_feat_vec = []\n",
    "for data in fin:\n",
    "  data = np.array((data))\n",
    "  feat_file = []\n",
    "  mfcc_feat = python_speech_features.mfcc(data,16000,winlen=0.02,winstep=0.01)\n",
    "  #-------Compute delta coef-----#\n",
    "  N=2\n",
    "  delta = python_speech_features.delta(mfcc_feat, 2)\n",
    "  #--------Compute delta-delta coeff-------#\n",
    "  delta_delta = python_speech_features.delta(delta, 2)\n",
    "\n",
    "  for frame in range(0,len(mfcc_feat)):\n",
    "    #frame opened\n",
    "    #concatenate for each frame : 13 mfcc + 13 delta + 13 delta-delta = 39 features\n",
    "    feat_ = np.concatenate((mfcc_feat[frame],delta[frame],delta_delta[frame]))\n",
    "    feat_file.append(feat_)\n",
    "\n",
    "  final_feat_vec.append(feat_file)\n",
    "\n",
    "for i in range(0,len(final_feat_vec)):\n",
    "  final_feat_vec[i] = np.stack( final_feat_vec[i], axis=0 )\n",
    "\n",
    "t = np.array(final_feat_vec)\n",
    "print(seq)\n",
    "\n",
    "#------Method 1--------#\n",
    "model_256 = model\n",
    "out_256 = model_256.layers[2].output\n",
    "m_256 = tf.compat.v1.keras.Model(inputs = model_256.input, outputs=out_256)\n",
    "\n",
    "output256 = m_256.predict(t)\n",
    "\n",
    "score_512_1024 = gmm_512_1024.score_samples(output256)\n",
    "\n",
    "plt.plot(score_512_1024)\n",
    "plt.show()\n",
    "print('gmm_512_1024')\n",
    "for i in range(0,len(score_512_1024)):\n",
    "  print(seq[i],\": \",score_512_1024[i])"
   ]
  },
  {
   "cell_type": "markdown",
   "metadata": {},
   "source": [
    "Testing"
   ]
  },
  {
   "cell_type": "code",
   "execution_count": 26,
   "metadata": {},
   "outputs": [],
   "source": [
    "import csv\n",
    "import pandas as pd\n",
    "list = ['File Name','Sequence']\n",
    "test_df = pd.read_csv(\"/home/orchids/Documents/BTP_Vaishnavi_Joshitha/PartB_Telugu/Dev/Transcription_LT_Sequence_Frame_Level_200_actual.tsv\", delimiter=\"\\t\",names=list)\n",
    "test_df['File Name'] = test_df['File Name'].apply(lambda x: str(x))\n",
    "for x in range(0,len(test_df['File Name'])):\n",
    "    test_df['File Name'][x] = str(str(test_df['File Name'][x]).zfill(9))\n",
    "#test_df"
   ]
  },
  {
   "cell_type": "code",
   "execution_count": 28,
   "metadata": {},
   "outputs": [
    {
     "name": "stdout",
     "output_type": "stream",
     "text": [
      "SSEEEEETTTTTTTETTTSS\n"
     ]
    },
    {
     "data": {
      "image/png": "[encoded data removed]",
      "text/plain": [
       "<Figure size 432x288 with 1 Axes>"
      ]
     },
     "metadata": {
      "needs_background": "light"
     },
     "output_type": "display_data"
    },
    {
     "name": "stdout",
     "output_type": "stream",
     "text": [
      "gmm_512_1024\n",
      "S :  -74840.37619391251\n",
      "S :  -113878.0451784528\n",
      "E :  -39679.55347108169\n",
      "E :  -51062.99518941768\n",
      "E :  -54031.43925300196\n",
      "E :  -65118.11123262397\n",
      "E :  -38532.97948746165\n",
      "T :  -26757.001068856556\n",
      "T :  -135451.15635175697\n",
      "T :  -90692.17926475916\n",
      "T :  -151579.0284060776\n",
      "T :  -104323.72198728795\n",
      "T :  -111309.83402923854\n",
      "T :  -34017.18039925274\n",
      "E :  -155395.1872305683\n",
      "T :  -199276.77169629367\n",
      "T :  -110071.66914927766\n",
      "T :  -157940.92893062843\n",
      "S :  -182115.54875261628\n"
     ]
    }
   ],
   "source": [
    "from keras.models import load_model\n",
    "#model.load_weights('wts_256_tanh.h5')\n",
    "\n",
    "file_name = '000010234'\n",
    "file_path =\"PartB_Telugu/Dev/Audio/\"+file_name+'.wav'\n",
    "data, fs = sf.read(file_path)\n",
    "seq = test_df.loc[test_df['File Name'] == file_name, 'Sequence'].iloc[0]\n",
    "\n",
    "fin = []  #200 ms frames in the file_name\n",
    "frame = int(0.2*fs)\n",
    "\n",
    "for i in range(0,len(seq)):\n",
    "    if len(data[frame*i:frame*i+frame])==3200:\n",
    "      fin.append((data[frame*i:frame*i+frame]).tolist())\n",
    "\n",
    "final_feat_vec = []\n",
    "for data in fin:\n",
    "  data = np.array((data))\n",
    "  feat_file = []\n",
    "  mfcc_feat = python_speech_features.mfcc(data,16000,winlen=0.02,winstep=0.01)\n",
    "  #-------Compute delta coef-----#\n",
    "  N=2\n",
    "  delta = python_speech_features.delta(mfcc_feat, 2)\n",
    "  #--------Compute delta-delta coeff-------#\n",
    "  delta_delta = python_speech_features.delta(delta, 2)\n",
    "\n",
    "  for frame in range(0,len(mfcc_feat)):\n",
    "    #frame opened\n",
    "    #concatenate for each frame : 13 mfcc + 13 delta + 13 delta-delta = 39 features\n",
    "    feat_ = np.concatenate((mfcc_feat[frame],delta[frame],delta_delta[frame]))\n",
    "    feat_file.append(feat_)\n",
    "\n",
    "  final_feat_vec.append(feat_file)\n",
    "\n",
    "for i in range(0,len(final_feat_vec)):\n",
    "  final_feat_vec[i] = np.stack( final_feat_vec[i], axis=0 )\n",
    "\n",
    "t = np.array(final_feat_vec)\n",
    "print(seq)\n",
    "\n",
    "#------Method 1--------#\n",
    "model_256 = model\n",
    "out_256 = model_256.layers[2].output\n",
    "m_256 = tf.compat.v1.keras.Model(inputs = model_256.input, outputs=out_256)\n",
    "\n",
    "output256 = m_256.predict(t)\n",
    "\n",
    "score_512_1024 = gmm_512_1024.score_samples(output256)\n",
    "\n",
    "plt.plot(score_512_1024)\n",
    "plt.show()\n",
    "print('gmm_512_1024')\n",
    "for i in range(0,len(score_512_1024)):\n",
    "  print(seq[i],\": \",score_512_1024[i])"
   ]
  },
  {
   "cell_type": "markdown",
   "metadata": {},
   "source": [
    "512_2048"
   ]
  },
  {
   "cell_type": "code",
   "execution_count": 31,
   "metadata": {},
   "outputs": [],
   "source": [
    "features = output\n",
    "n_gmms=2048\n",
    "from sklearn.mixture import GaussianMixture\n",
    "gmm_512_2048 = GaussianMixture(n_components=n_gmms)"
   ]
  },
  {
   "cell_type": "code",
   "execution_count": null,
   "metadata": {},
   "outputs": [],
   "source": []
  },
  {
   "cell_type": "code",
   "execution_count": 32,
   "metadata": {},
   "outputs": [],
   "source": [
    "with tf.device(\"/GPU:0\"):\n",
    "    gmm_512_2048.fit(output)"
   ]
  },
  {
   "cell_type": "code",
   "execution_count": 58,
   "metadata": {},
   "outputs": [],
   "source": [
    "pickle.dump(gmm_512_2048, open('gmm_512_2048.sav', 'wb'), protocol=4)"
   ]
  },
  {
   "cell_type": "code",
   "execution_count": 57,
   "metadata": {},
   "outputs": [
    {
     "ename": "KeyboardInterrupt",
     "evalue": "",
     "output_type": "error",
     "traceback": [
      "\u001b[0;31m---------------------------------------------------------------------------\u001b[0m",
      "\u001b[0;31mKeyboardInterrupt\u001b[0m                         Traceback (most recent call last)",
      "\u001b[0;32m<ipython-input-57-eef53def3021>\u001b[0m in \u001b[0;36m<module>\u001b[0;34m\u001b[0m\n\u001b[0;32m----> 1\u001b[0;31m \u001b[0mscore\u001b[0m \u001b[0;34m=\u001b[0m \u001b[0mgmm_512_2048\u001b[0m\u001b[0;34m.\u001b[0m\u001b[0mscore_samples\u001b[0m\u001b[0;34m(\u001b[0m\u001b[0moutput\u001b[0m\u001b[0;34m)\u001b[0m\u001b[0;34m\u001b[0m\u001b[0;34m\u001b[0m\u001b[0m\n\u001b[0m\u001b[1;32m      2\u001b[0m \u001b[0mplt\u001b[0m\u001b[0;34m.\u001b[0m\u001b[0mplot\u001b[0m\u001b[0;34m(\u001b[0m\u001b[0mscore\u001b[0m\u001b[0;34m)\u001b[0m\u001b[0;34m\u001b[0m\u001b[0;34m\u001b[0m\u001b[0m\n",
      "\u001b[0;32m~/.local/lib/python3.6/site-packages/sklearn/mixture/base.py\u001b[0m in \u001b[0;36mscore_samples\u001b[0;34m(self, X)\u001b[0m\n\u001b[1;32m    341\u001b[0m         \u001b[0mX\u001b[0m \u001b[0;34m=\u001b[0m \u001b[0m_check_X\u001b[0m\u001b[0;34m(\u001b[0m\u001b[0mX\u001b[0m\u001b[0;34m,\u001b[0m \u001b[0;32mNone\u001b[0m\u001b[0;34m,\u001b[0m \u001b[0mself\u001b[0m\u001b[0;34m.\u001b[0m\u001b[0mmeans_\u001b[0m\u001b[0;34m.\u001b[0m\u001b[0mshape\u001b[0m\u001b[0;34m[\u001b[0m\u001b[0;36m1\u001b[0m\u001b[0;34m]\u001b[0m\u001b[0;34m)\u001b[0m\u001b[0;34m\u001b[0m\u001b[0;34m\u001b[0m\u001b[0m\n\u001b[1;32m    342\u001b[0m \u001b[0;34m\u001b[0m\u001b[0m\n\u001b[0;32m--> 343\u001b[0;31m         \u001b[0;32mreturn\u001b[0m \u001b[0mlogsumexp\u001b[0m\u001b[0;34m(\u001b[0m\u001b[0mself\u001b[0m\u001b[0;34m.\u001b[0m\u001b[0m_estimate_weighted_log_prob\u001b[0m\u001b[0;34m(\u001b[0m\u001b[0mX\u001b[0m\u001b[0;34m)\u001b[0m\u001b[0;34m,\u001b[0m \u001b[0maxis\u001b[0m\u001b[0;34m=\u001b[0m\u001b[0;36m1\u001b[0m\u001b[0;34m)\u001b[0m\u001b[0;34m\u001b[0m\u001b[0;34m\u001b[0m\u001b[0m\n\u001b[0m\u001b[1;32m    344\u001b[0m \u001b[0;34m\u001b[0m\u001b[0m\n\u001b[1;32m    345\u001b[0m     \u001b[0;32mdef\u001b[0m \u001b[0mscore\u001b[0m\u001b[0;34m(\u001b[0m\u001b[0mself\u001b[0m\u001b[0;34m,\u001b[0m \u001b[0mX\u001b[0m\u001b[0;34m,\u001b[0m \u001b[0my\u001b[0m\u001b[0;34m=\u001b[0m\u001b[0;32mNone\u001b[0m\u001b[0;34m)\u001b[0m\u001b[0;34m:\u001b[0m\u001b[0;34m\u001b[0m\u001b[0;34m\u001b[0m\u001b[0m\n",
      "\u001b[0;32m~/.local/lib/python3.6/site-packages/sklearn/mixture/base.py\u001b[0m in \u001b[0;36m_estimate_weighted_log_prob\u001b[0;34m(self, X)\u001b[0m\n\u001b[1;32m    457\u001b[0m         \u001b[0mweighted_log_prob\u001b[0m \u001b[0;34m:\u001b[0m \u001b[0marray\u001b[0m\u001b[0;34m,\u001b[0m \u001b[0mshape\u001b[0m \u001b[0;34m(\u001b[0m\u001b[0mn_samples\u001b[0m\u001b[0;34m,\u001b[0m \u001b[0mn_component\u001b[0m\u001b[0;34m)\u001b[0m\u001b[0;34m\u001b[0m\u001b[0;34m\u001b[0m\u001b[0m\n\u001b[1;32m    458\u001b[0m         \"\"\"\n\u001b[0;32m--> 459\u001b[0;31m         \u001b[0;32mreturn\u001b[0m \u001b[0mself\u001b[0m\u001b[0;34m.\u001b[0m\u001b[0m_estimate_log_prob\u001b[0m\u001b[0;34m(\u001b[0m\u001b[0mX\u001b[0m\u001b[0;34m)\u001b[0m \u001b[0;34m+\u001b[0m \u001b[0mself\u001b[0m\u001b[0;34m.\u001b[0m\u001b[0m_estimate_log_weights\u001b[0m\u001b[0;34m(\u001b[0m\u001b[0;34m)\u001b[0m\u001b[0;34m\u001b[0m\u001b[0;34m\u001b[0m\u001b[0m\n\u001b[0m\u001b[1;32m    460\u001b[0m \u001b[0;34m\u001b[0m\u001b[0m\n\u001b[1;32m    461\u001b[0m     \u001b[0;34m@\u001b[0m\u001b[0mabstractmethod\u001b[0m\u001b[0;34m\u001b[0m\u001b[0;34m\u001b[0m\u001b[0m\n",
      "\u001b[0;32m~/.local/lib/python3.6/site-packages/sklearn/mixture/gaussian_mixture.py\u001b[0m in \u001b[0;36m_estimate_log_prob\u001b[0;34m(self, X)\u001b[0m\n\u001b[1;32m    680\u001b[0m     \u001b[0;32mdef\u001b[0m \u001b[0m_estimate_log_prob\u001b[0m\u001b[0;34m(\u001b[0m\u001b[0mself\u001b[0m\u001b[0;34m,\u001b[0m \u001b[0mX\u001b[0m\u001b[0;34m)\u001b[0m\u001b[0;34m:\u001b[0m\u001b[0;34m\u001b[0m\u001b[0;34m\u001b[0m\u001b[0m\n\u001b[1;32m    681\u001b[0m         return _estimate_log_gaussian_prob(\n\u001b[0;32m--> 682\u001b[0;31m             X, self.means_, self.precisions_cholesky_, self.covariance_type)\n\u001b[0m\u001b[1;32m    683\u001b[0m \u001b[0;34m\u001b[0m\u001b[0m\n\u001b[1;32m    684\u001b[0m     \u001b[0;32mdef\u001b[0m \u001b[0m_estimate_log_weights\u001b[0m\u001b[0;34m(\u001b[0m\u001b[0mself\u001b[0m\u001b[0;34m)\u001b[0m\u001b[0;34m:\u001b[0m\u001b[0;34m\u001b[0m\u001b[0;34m\u001b[0m\u001b[0m\n",
      "\u001b[0;32m~/.local/lib/python3.6/site-packages/sklearn/mixture/gaussian_mixture.py\u001b[0m in \u001b[0;36m_estimate_log_gaussian_prob\u001b[0;34m(X, means, precisions_chol, covariance_type)\u001b[0m\n\u001b[1;32m    411\u001b[0m         \u001b[0;32mfor\u001b[0m \u001b[0mk\u001b[0m\u001b[0;34m,\u001b[0m \u001b[0;34m(\u001b[0m\u001b[0mmu\u001b[0m\u001b[0;34m,\u001b[0m \u001b[0mprec_chol\u001b[0m\u001b[0;34m)\u001b[0m \u001b[0;32min\u001b[0m \u001b[0menumerate\u001b[0m\u001b[0;34m(\u001b[0m\u001b[0mzip\u001b[0m\u001b[0;34m(\u001b[0m\u001b[0mmeans\u001b[0m\u001b[0;34m,\u001b[0m \u001b[0mprecisions_chol\u001b[0m\u001b[0;34m)\u001b[0m\u001b[0;34m)\u001b[0m\u001b[0;34m:\u001b[0m\u001b[0;34m\u001b[0m\u001b[0;34m\u001b[0m\u001b[0m\n\u001b[1;32m    412\u001b[0m             \u001b[0my\u001b[0m \u001b[0;34m=\u001b[0m \u001b[0mnp\u001b[0m\u001b[0;34m.\u001b[0m\u001b[0mdot\u001b[0m\u001b[0;34m(\u001b[0m\u001b[0mX\u001b[0m\u001b[0;34m,\u001b[0m \u001b[0mprec_chol\u001b[0m\u001b[0;34m)\u001b[0m \u001b[0;34m-\u001b[0m \u001b[0mnp\u001b[0m\u001b[0;34m.\u001b[0m\u001b[0mdot\u001b[0m\u001b[0;34m(\u001b[0m\u001b[0mmu\u001b[0m\u001b[0;34m,\u001b[0m \u001b[0mprec_chol\u001b[0m\u001b[0;34m)\u001b[0m\u001b[0;34m\u001b[0m\u001b[0;34m\u001b[0m\u001b[0m\n\u001b[0;32m--> 413\u001b[0;31m             \u001b[0mlog_prob\u001b[0m\u001b[0;34m[\u001b[0m\u001b[0;34m:\u001b[0m\u001b[0;34m,\u001b[0m \u001b[0mk\u001b[0m\u001b[0;34m]\u001b[0m \u001b[0;34m=\u001b[0m \u001b[0mnp\u001b[0m\u001b[0;34m.\u001b[0m\u001b[0msum\u001b[0m\u001b[0;34m(\u001b[0m\u001b[0mnp\u001b[0m\u001b[0;34m.\u001b[0m\u001b[0msquare\u001b[0m\u001b[0;34m(\u001b[0m\u001b[0my\u001b[0m\u001b[0;34m)\u001b[0m\u001b[0;34m,\u001b[0m \u001b[0maxis\u001b[0m\u001b[0;34m=\u001b[0m\u001b[0;36m1\u001b[0m\u001b[0;34m)\u001b[0m\u001b[0;34m\u001b[0m\u001b[0;34m\u001b[0m\u001b[0m\n\u001b[0m\u001b[1;32m    414\u001b[0m \u001b[0;34m\u001b[0m\u001b[0m\n\u001b[1;32m    415\u001b[0m     \u001b[0;32melif\u001b[0m \u001b[0mcovariance_type\u001b[0m \u001b[0;34m==\u001b[0m \u001b[0;34m'tied'\u001b[0m\u001b[0;34m:\u001b[0m\u001b[0;34m\u001b[0m\u001b[0;34m\u001b[0m\u001b[0m\n",
      "\u001b[0;32m~/.local/lib/python3.6/site-packages/numpy/core/fromnumeric.py\u001b[0m in \u001b[0;36msum\u001b[0;34m(a, axis, dtype, out, keepdims, initial)\u001b[0m\n\u001b[1;32m   2074\u001b[0m \u001b[0;34m\u001b[0m\u001b[0m\n\u001b[1;32m   2075\u001b[0m     return _wrapreduction(a, np.add, 'sum', axis, dtype, out, keepdims=keepdims,\n\u001b[0;32m-> 2076\u001b[0;31m                           initial=initial)\n\u001b[0m\u001b[1;32m   2077\u001b[0m \u001b[0;34m\u001b[0m\u001b[0m\n\u001b[1;32m   2078\u001b[0m \u001b[0;34m\u001b[0m\u001b[0m\n",
      "\u001b[0;32m~/.local/lib/python3.6/site-packages/numpy/core/fromnumeric.py\u001b[0m in \u001b[0;36m_wrapreduction\u001b[0;34m(obj, ufunc, method, axis, dtype, out, **kwargs)\u001b[0m\n\u001b[1;32m     84\u001b[0m                 \u001b[0;32mreturn\u001b[0m \u001b[0mreduction\u001b[0m\u001b[0;34m(\u001b[0m\u001b[0maxis\u001b[0m\u001b[0;34m=\u001b[0m\u001b[0maxis\u001b[0m\u001b[0;34m,\u001b[0m \u001b[0mout\u001b[0m\u001b[0;34m=\u001b[0m\u001b[0mout\u001b[0m\u001b[0;34m,\u001b[0m \u001b[0;34m**\u001b[0m\u001b[0mpasskwargs\u001b[0m\u001b[0;34m)\u001b[0m\u001b[0;34m\u001b[0m\u001b[0;34m\u001b[0m\u001b[0m\n\u001b[1;32m     85\u001b[0m \u001b[0;34m\u001b[0m\u001b[0m\n\u001b[0;32m---> 86\u001b[0;31m     \u001b[0;32mreturn\u001b[0m \u001b[0mufunc\u001b[0m\u001b[0;34m.\u001b[0m\u001b[0mreduce\u001b[0m\u001b[0;34m(\u001b[0m\u001b[0mobj\u001b[0m\u001b[0;34m,\u001b[0m \u001b[0maxis\u001b[0m\u001b[0;34m,\u001b[0m \u001b[0mdtype\u001b[0m\u001b[0;34m,\u001b[0m \u001b[0mout\u001b[0m\u001b[0;34m,\u001b[0m \u001b[0;34m**\u001b[0m\u001b[0mpasskwargs\u001b[0m\u001b[0;34m)\u001b[0m\u001b[0;34m\u001b[0m\u001b[0;34m\u001b[0m\u001b[0m\n\u001b[0m\u001b[1;32m     87\u001b[0m \u001b[0;34m\u001b[0m\u001b[0m\n\u001b[1;32m     88\u001b[0m \u001b[0;34m\u001b[0m\u001b[0m\n",
      "\u001b[0;31mKeyboardInterrupt\u001b[0m: "
     ]
    }
   ],
   "source": [
    "score = gmm_512_2048.score_samples(output)\n",
    "plt.plot(score)"
   ]
  },
  {
   "cell_type": "code",
   "execution_count": null,
   "metadata": {},
   "outputs": [],
   "source": []
  },
  {
   "cell_type": "code",
   "execution_count": null,
   "metadata": {},
   "outputs": [],
   "source": [
    "from keras.models import load_model\n",
    "#model.load_weights('wts_256_tanh.h5')\n",
    "\n",
    "file_name = '000010023'\n",
    "file_path =\"PartB_Telugu/Train/Audio/\"+file_name+'.wav'\n",
    "data, fs = sf.read(file_path)\n",
    "seq = df.loc[df['File Name'] == file_name, 'Sequence'].iloc[0]\n",
    "\n",
    "fin = []  #200 ms frames in the file_name\n",
    "frame = int(0.2*fs)\n",
    "\n",
    "for i in range(0,len(seq)):\n",
    "    if len(data[frame*i:frame*i+frame])==3200:\n",
    "      fin.append((data[frame*i:frame*i+frame]).tolist())\n",
    "\n",
    "final_feat_vec = []\n",
    "for data in fin:\n",
    "  data = np.array((data))\n",
    "  feat_file = []\n",
    "  mfcc_feat = python_speech_features.mfcc(data,16000,winlen=0.02,winstep=0.01)\n",
    "  #-------Compute delta coef-----#\n",
    "  N=2\n",
    "  delta = python_speech_features.delta(mfcc_feat, 2)\n",
    "  #--------Compute delta-delta coeff-------#\n",
    "  delta_delta = python_speech_features.delta(delta, 2)\n",
    "\n",
    "  for frame in range(0,len(mfcc_feat)):\n",
    "    #frame opened\n",
    "    #concatenate for each frame : 13 mfcc + 13 delta + 13 delta-delta = 39 features\n",
    "    feat_ = np.concatenate((mfcc_feat[frame],delta[frame],delta_delta[frame]))\n",
    "    feat_file.append(feat_)\n",
    "\n",
    "  final_feat_vec.append(feat_file)\n",
    "\n",
    "for i in range(0,len(final_feat_vec)):\n",
    "  final_feat_vec[i] = np.stack( final_feat_vec[i], axis=0 )\n",
    "\n",
    "t = np.array(final_feat_vec)\n",
    "print(seq)\n",
    "\n",
    "#------Method 1--------#\n",
    "model_256 = model\n",
    "out_256 = model_256.layers[1].output\n",
    "m_256 = tf.compat.v1.keras.Model(inputs = model_256.input, outputs=out_256)\n",
    "\n",
    "output256 = m_256.predict(t)\n",
    "\n",
    "score_256_2048 = gmm_256_2048.score_samples(output256)\n",
    "\n",
    "plt.plot(score_256_2048)\n",
    "plt.show()\n",
    "print('gmm_256_2048')\n",
    "for i in range(0,len(score_256_2048)):\n",
    "  print(seq[i],\": \",score_256_2048[i])"
   ]
  },
  {
   "cell_type": "code",
   "execution_count": 83,
   "metadata": {},
   "outputs": [
    {
     "name": "stdout",
     "output_type": "stream",
     "text": [
      "SSEEEEETTTTTTTETTTSS\n"
     ]
    },
    {
     "data": {
      "image/png": "[encoded data removed]",
      "text/plain": [
       "<Figure size 432x288 with 1 Axes>"
      ]
     },
     "metadata": {
      "needs_background": "light"
     },
     "output_type": "display_data"
    },
    {
     "name": "stdout",
     "output_type": "stream",
     "text": [
      "gmm_256_1024\n",
      "S :  477.11966254918616\n",
      "S :  320.0541506155049\n",
      "E :  -48.78999155128258\n",
      "E :  299.0455449400629\n",
      "E :  125.64015904983148\n",
      "E :  66.68700093507745\n",
      "E :  -58.46947938859499\n",
      "T :  -889.8418258773517\n",
      "T :  -233.64700537193005\n",
      "T :  71.98866334768685\n",
      "T :  238.35376162598027\n",
      "T :  135.08288587340357\n",
      "T :  -36.80881742810458\n",
      "T :  93.83605167883856\n",
      "E :  -329.15374894147806\n",
      "T :  -323.04112127228035\n",
      "T :  130.89247585999777\n",
      "T :  355.854189915808\n",
      "S :  332.58677680184303\n"
     ]
    }
   ],
   "source": [
    "from keras.models import load_model\n",
    "model.load_weights('wts_256_tanh.h5')\n",
    "\n",
    "file_name = '000010234'\n",
    "file_path =\"PartB_Telugu/Dev/Audio/\"+file_name+'.wav'\n",
    "data, fs = sf.read(file_path)\n",
    "seq = df.loc[df['File Name'] == file_name, 'Sequence'].iloc[0]\n",
    "\n",
    "fin = []  #200 ms frames in the file_name\n",
    "frame = int(0.2*fs)\n",
    "\n",
    "for i in range(0,len(seq)):\n",
    "    if len(data[frame*i:frame*i+frame])==3200:\n",
    "      fin.append((data[frame*i:frame*i+frame]).tolist())\n",
    "\n",
    "final_feat_vec = []\n",
    "for data in fin:\n",
    "  data = np.array((data))\n",
    "  feat_file = []\n",
    "  mfcc_feat = python_speech_features.mfcc(data,16000,winlen=0.02,winstep=0.01)\n",
    "  #-------Compute delta coef-----#\n",
    "  N=2\n",
    "  delta = python_speech_features.delta(mfcc_feat, 2)\n",
    "  #--------Compute delta-delta coeff-------#\n",
    "  delta_delta = python_speech_features.delta(delta, 2)\n",
    "\n",
    "  for frame in range(0,len(mfcc_feat)):\n",
    "    #frame opened\n",
    "    #concatenate for each frame : 13 mfcc + 13 delta + 13 delta-delta = 39 features\n",
    "    feat_ = np.concatenate((mfcc_feat[frame],delta[frame],delta_delta[frame]))\n",
    "    feat_file.append(feat_)\n",
    "\n",
    "  final_feat_vec.append(feat_file)\n",
    "\n",
    "for i in range(0,len(final_feat_vec)):\n",
    "  final_feat_vec[i] = np.stack( final_feat_vec[i], axis=0 )\n",
    "\n",
    "t = np.array(final_feat_vec)\n",
    "print(seq)\n",
    "\n",
    "#------Method 1--------#\n",
    "model_256 = model\n",
    "out_256 = model_256.layers[1].output\n",
    "m_256 = tf.compat.v1.keras.Model(inputs = model_256.input, outputs=out_256)\n",
    "\n",
    "output256 = m_256.predict(t)\n",
    "\n",
    "score_256_2048 = gmm_256_2048.score_samples(output256)\n",
    "\n",
    "plt.plot(score_256_2048)\n",
    "plt.show()\n",
    "print('gmm_256_1024')\n",
    "for i in range(0,len(score_256_2048)):\n",
    "  print(seq[i],\": \",score_256_2048[i])"
   ]
  },
  {
   "cell_type": "code",
   "execution_count": 85,
   "metadata": {},
   "outputs": [
    {
     "name": "stdout",
     "output_type": "stream",
     "text": [
      "SSSSSSSSSTTTEEETTSETTTTTTTTTTTTTTTTSS\n"
     ]
    },
    {
     "data": {
      "image/png": "[encoded data removed]",
      "text/plain": [
       "<Figure size 432x288 with 1 Axes>"
      ]
     },
     "metadata": {
      "needs_background": "light"
     },
     "output_type": "display_data"
    },
    {
     "name": "stdout",
     "output_type": "stream",
     "text": [
      "gmm_256_2048\n",
      "S :  377.48535102518645\n",
      "S :  191.14920490756333\n",
      "S :  -780.8175061730711\n",
      "S :  -180.40416483954965\n",
      "S :  122.73787550921784\n",
      "S :  48.13658594013982\n",
      "S :  -235.83015295582408\n",
      "S :  214.8813460815319\n",
      "S :  -20.019895155062258\n",
      "T :  -38.8990843373977\n",
      "T :  -150.4300577561819\n",
      "T :  -64.60418060889992\n",
      "E :  -413.4487457148333\n",
      "E :  -424.911619517157\n",
      "E :  -290.86546348454783\n",
      "T :  -100.53031318589655\n",
      "T :  395.1985505313583\n",
      "S :  351.7029775339279\n",
      "E :  -63.37195877487635\n",
      "T :  -564.9194310002168\n",
      "T :  -21.586109326399587\n",
      "T :  -141.16699339294598\n",
      "T :  -91.51464587312353\n",
      "T :  -370.3614805742376\n",
      "T :  271.6963626046934\n",
      "T :  -248.0403498218506\n",
      "T :  -86.34640007205267\n",
      "T :  -835.3600941657404\n",
      "T :  -159.35275783951727\n",
      "T :  -244.79825194001637\n",
      "T :  -488.8898195233504\n",
      "T :  -183.82930823210415\n",
      "T :  -308.76181679766285\n",
      "T :  77.59231873073499\n",
      "T :  237.73710428497282\n",
      "S :  324.3966960227248\n"
     ]
    }
   ],
   "source": [
    "from keras.models import load_model\n",
    "model.load_weights('wts_256_tanh.h5')\n",
    "\n",
    "file_name = '000010443'\n",
    "file_path =\"PartB_Telugu/Dev/Audio/\"+file_name+'.wav'\n",
    "data, fs = sf.read(file_path)\n",
    "seq = df.loc[df['File Name'] == file_name, 'Sequence'].iloc[0]\n",
    "\n",
    "fin = []  #200 ms frames in the file_name\n",
    "frame = int(0.2*fs)\n",
    "\n",
    "for i in range(0,len(seq)):\n",
    "    if len(data[frame*i:frame*i+frame])==3200:\n",
    "      fin.append((data[frame*i:frame*i+frame]).tolist())\n",
    "\n",
    "final_feat_vec = []\n",
    "for data in fin:\n",
    "  data = np.array((data))\n",
    "  feat_file = []\n",
    "  mfcc_feat = python_speech_features.mfcc(data,16000,winlen=0.02,winstep=0.01)\n",
    "  #-------Compute delta coef-----#\n",
    "  N=2\n",
    "  delta = python_speech_features.delta(mfcc_feat, 2)\n",
    "  #--------Compute delta-delta coeff-------#\n",
    "  delta_delta = python_speech_features.delta(delta, 2)\n",
    "\n",
    "  for frame in range(0,len(mfcc_feat)):\n",
    "    #frame opened\n",
    "    #concatenate for each frame : 13 mfcc + 13 delta + 13 delta-delta = 39 features\n",
    "    feat_ = np.concatenate((mfcc_feat[frame],delta[frame],delta_delta[frame]))\n",
    "    feat_file.append(feat_)\n",
    "\n",
    "  final_feat_vec.append(feat_file)\n",
    "\n",
    "for i in range(0,len(final_feat_vec)):\n",
    "  final_feat_vec[i] = np.stack( final_feat_vec[i], axis=0 )\n",
    "\n",
    "t = np.array(final_feat_vec)\n",
    "print(seq)\n",
    "\n",
    "#------Method 1--------#\n",
    "model_256 = model\n",
    "out_256 = model_256.layers[1].output\n",
    "m_256 = tf.compat.v1.keras.Model(inputs = model_256.input, outputs=out_256)\n",
    "\n",
    "output256 = m_256.predict(t)\n",
    "\n",
    "score_256_2048 = gmm_256_2048.score_samples(output256)\n",
    "\n",
    "plt.plot(score_256_2048)\n",
    "plt.show()\n",
    "print('gmm_256_2048')\n",
    "for i in range(0,len(score_256_2048)):\n",
    "  print(seq[i],\": \",score_256_2048[i])"
   ]
  },
  {
   "cell_type": "markdown",
   "metadata": {},
   "source": [
    "4096"
   ]
  },
  {
   "cell_type": "code",
   "execution_count": 88,
   "metadata": {
    "scrolled": true
   },
   "outputs": [
    {
     "ename": "MemoryError",
     "evalue": "",
     "output_type": "error",
     "traceback": [
      "\u001b[0;31m---------------------------------------------------------------------------\u001b[0m",
      "\u001b[0;31mMemoryError\u001b[0m                               Traceback (most recent call last)",
      "\u001b[0;32m<ipython-input-88-b5ed5918ed58>\u001b[0m in \u001b[0;36m<module>\u001b[0;34m\u001b[0m\n\u001b[1;32m      2\u001b[0m \u001b[0;34m\u001b[0m\u001b[0m\n\u001b[1;32m      3\u001b[0m \u001b[0;32mwith\u001b[0m \u001b[0mtf\u001b[0m\u001b[0;34m.\u001b[0m\u001b[0mdevice\u001b[0m\u001b[0;34m(\u001b[0m\u001b[0;34m\"/GPU:0\"\u001b[0m\u001b[0;34m)\u001b[0m\u001b[0;34m:\u001b[0m\u001b[0;34m\u001b[0m\u001b[0;34m\u001b[0m\u001b[0m\n\u001b[0;32m----> 4\u001b[0;31m     \u001b[0mgmm_256_4096\u001b[0m\u001b[0;34m.\u001b[0m\u001b[0mfit\u001b[0m\u001b[0;34m(\u001b[0m\u001b[0moutput\u001b[0m\u001b[0;34m)\u001b[0m\u001b[0;34m\u001b[0m\u001b[0;34m\u001b[0m\u001b[0m\n\u001b[0m\u001b[1;32m      5\u001b[0m \u001b[0;34m\u001b[0m\u001b[0m\n\u001b[1;32m      6\u001b[0m \u001b[0mpickle\u001b[0m\u001b[0;34m.\u001b[0m\u001b[0mdump\u001b[0m\u001b[0;34m(\u001b[0m\u001b[0mgmm_256_4096\u001b[0m\u001b[0;34m,\u001b[0m \u001b[0mopen\u001b[0m\u001b[0;34m(\u001b[0m\u001b[0;34m'gmm_256_4096.sav'\u001b[0m\u001b[0;34m,\u001b[0m \u001b[0;34m'wb'\u001b[0m\u001b[0;34m)\u001b[0m\u001b[0;34m)\u001b[0m\u001b[0;34m\u001b[0m\u001b[0;34m\u001b[0m\u001b[0m\n",
      "\u001b[0;32m~/.local/lib/python3.6/site-packages/sklearn/mixture/base.py\u001b[0m in \u001b[0;36mfit\u001b[0;34m(self, X, y)\u001b[0m\n\u001b[1;32m    192\u001b[0m         \u001b[0mself\u001b[0m\u001b[0;34m\u001b[0m\u001b[0;34m\u001b[0m\u001b[0m\n\u001b[1;32m    193\u001b[0m         \"\"\"\n\u001b[0;32m--> 194\u001b[0;31m         \u001b[0mself\u001b[0m\u001b[0;34m.\u001b[0m\u001b[0mfit_predict\u001b[0m\u001b[0;34m(\u001b[0m\u001b[0mX\u001b[0m\u001b[0;34m,\u001b[0m \u001b[0my\u001b[0m\u001b[0;34m)\u001b[0m\u001b[0;34m\u001b[0m\u001b[0;34m\u001b[0m\u001b[0m\n\u001b[0m\u001b[1;32m    195\u001b[0m         \u001b[0;32mreturn\u001b[0m \u001b[0mself\u001b[0m\u001b[0;34m\u001b[0m\u001b[0;34m\u001b[0m\u001b[0m\n\u001b[1;32m    196\u001b[0m \u001b[0;34m\u001b[0m\u001b[0m\n",
      "\u001b[0;32m~/.local/lib/python3.6/site-packages/sklearn/mixture/base.py\u001b[0m in \u001b[0;36mfit_predict\u001b[0;34m(self, X, y)\u001b[0m\n\u001b[1;32m    235\u001b[0m \u001b[0;34m\u001b[0m\u001b[0m\n\u001b[1;32m    236\u001b[0m             \u001b[0;32mif\u001b[0m \u001b[0mdo_init\u001b[0m\u001b[0;34m:\u001b[0m\u001b[0;34m\u001b[0m\u001b[0;34m\u001b[0m\u001b[0m\n\u001b[0;32m--> 237\u001b[0;31m                 \u001b[0mself\u001b[0m\u001b[0;34m.\u001b[0m\u001b[0m_initialize_parameters\u001b[0m\u001b[0;34m(\u001b[0m\u001b[0mX\u001b[0m\u001b[0;34m,\u001b[0m \u001b[0mrandom_state\u001b[0m\u001b[0;34m)\u001b[0m\u001b[0;34m\u001b[0m\u001b[0;34m\u001b[0m\u001b[0m\n\u001b[0m\u001b[1;32m    238\u001b[0m \u001b[0;34m\u001b[0m\u001b[0m\n\u001b[1;32m    239\u001b[0m             \u001b[0mlower_bound\u001b[0m \u001b[0;34m=\u001b[0m \u001b[0;34m(\u001b[0m\u001b[0;34m-\u001b[0m\u001b[0mnp\u001b[0m\u001b[0;34m.\u001b[0m\u001b[0minfty\u001b[0m \u001b[0;32mif\u001b[0m \u001b[0mdo_init\u001b[0m \u001b[0;32melse\u001b[0m \u001b[0mself\u001b[0m\u001b[0;34m.\u001b[0m\u001b[0mlower_bound_\u001b[0m\u001b[0;34m)\u001b[0m\u001b[0;34m\u001b[0m\u001b[0;34m\u001b[0m\u001b[0m\n",
      "\u001b[0;32m~/.local/lib/python3.6/site-packages/sklearn/mixture/base.py\u001b[0m in \u001b[0;36m_initialize_parameters\u001b[0;34m(self, X, random_state)\u001b[0m\n\u001b[1;32m    145\u001b[0m \u001b[0;34m\u001b[0m\u001b[0m\n\u001b[1;32m    146\u001b[0m         \u001b[0;32mif\u001b[0m \u001b[0mself\u001b[0m\u001b[0;34m.\u001b[0m\u001b[0minit_params\u001b[0m \u001b[0;34m==\u001b[0m \u001b[0;34m'kmeans'\u001b[0m\u001b[0;34m:\u001b[0m\u001b[0;34m\u001b[0m\u001b[0;34m\u001b[0m\u001b[0m\n\u001b[0;32m--> 147\u001b[0;31m             \u001b[0mresp\u001b[0m \u001b[0;34m=\u001b[0m \u001b[0mnp\u001b[0m\u001b[0;34m.\u001b[0m\u001b[0mzeros\u001b[0m\u001b[0;34m(\u001b[0m\u001b[0;34m(\u001b[0m\u001b[0mn_samples\u001b[0m\u001b[0;34m,\u001b[0m \u001b[0mself\u001b[0m\u001b[0;34m.\u001b[0m\u001b[0mn_components\u001b[0m\u001b[0;34m)\u001b[0m\u001b[0;34m)\u001b[0m\u001b[0;34m\u001b[0m\u001b[0;34m\u001b[0m\u001b[0m\n\u001b[0m\u001b[1;32m    148\u001b[0m             label = cluster.KMeans(n_clusters=self.n_components, n_init=1,\n\u001b[1;32m    149\u001b[0m                                    random_state=random_state).fit(X).labels_\n",
      "\u001b[0;31mMemoryError\u001b[0m: "
     ]
    }
   ],
   "source": [
    "gmm_256_4096 = GaussianMixture(n_components=4096)\n",
    "\n",
    "with tf.device(\"/GPU:0\"):\n",
    "    gmm_256_4096.fit(output)\n",
    "    \n",
    "pickle.dump(gmm_256_4096, open('gmm_256_4096.sav', 'wb'))\n",
    "\n",
    "score = gmm_256_4096.score_samples(output)\n",
    "plt.plot(score)"
   ]
  },
  {
   "cell_type": "code",
   "execution_count": null,
   "metadata": {},
   "outputs": [],
   "source": []
  },
  {
   "cell_type": "code",
   "execution_count": 16,
   "metadata": {},
   "outputs": [
    {
     "data": {
      "text/plain": [
       "[PhysicalDevice(name='/physical_device:XLA_GPU:0', device_type='XLA_GPU'),\n",
       " PhysicalDevice(name='/physical_device:XLA_GPU:1', device_type='XLA_GPU')]"
      ]
     },
     "execution_count": 16,
     "metadata": {},
     "output_type": "execute_result"
    }
   ],
   "source": [
    "tf.config.list_physical_devices('XLA_GPU')"
   ]
  }
 ],
 "metadata": {
  "kernelspec": {
   "display_name": "Python 3",
   "language": "python",
   "name": "python3"
  },
  "language_info": {
   "codemirror_mode": {
    "name": "ipython",
    "version": 3
   },
   "file_extension": ".py",
   "mimetype": "text/x-python",
   "name": "python",
   "nbconvert_exporter": "python",
   "pygments_lexer": "ipython3",
   "version": "3.6.9"
  }
 },
 "nbformat": 4,
 "nbformat_minor": 2
}
